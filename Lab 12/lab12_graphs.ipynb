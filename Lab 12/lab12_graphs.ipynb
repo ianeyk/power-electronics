{
 "cells": [
  {
   "cell_type": "code",
   "execution_count": 1,
   "metadata": {},
   "outputs": [
    {
     "name": "stdout",
     "output_type": "stream",
     "text": [
      "Using matplotlib backend: <object object at 0x00000144A6511540>\n"
     ]
    },
    {
     "name": "stderr",
     "output_type": "stream",
     "text": [
      "C:\\Users\\ieykamp\\AppData\\Local\\Packages\\PythonSoftwareFoundation.Python.3.9_qbz5n2kfra8p0\\LocalCache\\local-packages\\Python39\\site-packages\\scipy\\__init__.py:146: UserWarning: A NumPy version >=1.16.5 and <1.23.0 is required for this version of SciPy (detected version 1.23.1\n",
      "  warnings.warn(f\"A NumPy version >={np_minversion} and <{np_maxversion}\"\n"
     ]
    }
   ],
   "source": [
    "import numpy as np\n",
    "import pandas as pd\n",
    "import matplotlib.pyplot as plt\n",
    "import matplotlib.ticker as mtick\n",
    "from UliEngineering.EngineerIO import format_value\n",
    "from si_prefix import si_format\n",
    "import plecs_helper as helper\n",
    "%matplotlib\n",
    "%matplotlib inline\n",
    "\n",
    "import seaborn as sns\n",
    "sns.set_theme(context='notebook', style='darkgrid',\n",
    "              palette='deep', font='sans-serif',\n",
    "              font_scale=1, color_codes=True, rc=None)\n",
    "\n",
    "# Imports and setup\n",
    "from pint import UnitRegistry\n",
    "from scipy.signal import find_peaks\n",
    "from scipy.optimize import fsolve\n",
    "\n",
    "# pandas display using scientific notation\n",
    "# pd.set_option('display.float_format', lambda x: f'{x:.3e}')\n",
    "\n",
    "# Make plots pretty\n",
    "import seaborn as sns\n",
    "sns.set_theme(context='notebook', style='darkgrid',\n",
    "              palette='deep', font='sans-serif',\n",
    "              font_scale=1, color_codes=True, rc=None)\n",
    "\n",
    "# use pint\n",
    "units = UnitRegistry()\n",
    "units.default_format = \"~P.2f\""
   ]
  },
  {
   "attachments": {},
   "cell_type": "markdown",
   "metadata": {},
   "source": [
    "## Full Cycle Original Flyback Converter"
   ]
  },
  {
   "cell_type": "code",
   "execution_count": null,
   "metadata": {},
   "outputs": [],
   "source": [
    "# Task 3 csv files: Vshunt and Vdrain\n",
    "(df_task1_4V, tspan, tstep) = helper.read_rigol_csv(\"scope_data/Task1-1.csv\", ch1 = \"Vsh_4V\", ch2 = \"Vd_4V\", shift = -0.75e-6)\n",
    "(df_task1_7V, tspan, tstep) = helper.read_rigol_csv(\"scope_data/Task1-2.csv\", ch1 = \"Vsh_7V\", ch2 = \"Vd_7V\")\n",
    "(df_task1_9V, tspan, tstep) = helper.read_rigol_csv(\"scope_data/Task1-3.csv\", ch1 = \"Vsh_9V\", ch2 = \"Vd_9V\")\n",
    "\n",
    "# Task 4 csv files: Vinj and Vdd\n",
    "(df_task2_4V, tspan, tstep) = helper.read_rigol_csv(\"scope_data/Task2-1.csv\", ch1 = \"Vinj_4V\", ch2 = \"Vdd_4V\")\n",
    "(df_task2_7V, tspan, tstep) = helper.read_rigol_csv(\"scope_data/Task2-2.csv\", ch1 = \"Vinj_7V\", ch2 = \"Vdd_7V\", shift = 2e-6)\n",
    "(df_task2_9V, tspan, tstep) = helper.read_rigol_csv(\"scope_data/Task2-3.csv\", ch1 = \"Vinj_9V\", ch2 = \"Vdd_9V\", shift = 8e-6)\n",
    "\n",
    "# Combine all variables into one for convenience\n",
    "df = df_task1_4V.set_index(\"t\").join([df_task1_7V.set_index(\"t\"), df_task1_9V.set_index(\"t\"), df_task2_4V.set_index(\"t\"), df_task2_7V.set_index(\"t\"), df_task2_9V.set_index(\"t\")]).reset_index()\n",
    "\n",
    "# Vshunt\n",
    "df_envelope = df # df[(df[\"t\"] > -2e-6) & (df[\"t\"] < 2e-6)]\n",
    "df_zoom = df[(df[\"t\"] > -5e-6) & (df[\"t\"] < 5e-6)]\n",
    "\n",
    "fig, (ax1, ax2) = plt.subplots(nrows = 1, ncols = 2, sharex = False, sharey = True, figsize = (12, 4))\n",
    "fig.autofmt_xdate()\n",
    "helper.axes_labels(\"Oscilloscope timestamp\", \"s\", \"Shunt Voltage (Vsh)\", \"V\", title = \"Shunt Voltage (Vsh)\", ax = ax1)\n",
    "ax1.plot(df_envelope[\"t\"], df_envelope[\"Vsh_4V\"], label = \"Vsh_4V\")\n",
    "ax1.plot(df_envelope[\"t\"], df_envelope[\"Vsh_7V\"], label = \"Vsh_7V\")\n",
    "ax1.plot(df_envelope[\"t\"], df_envelope[\"Vsh_9V\"], label = \"Vsh_9V\")\n",
    "ax1.legend(loc = \"lower left\")\n",
    "ax1.annotate('1', xy=(-6e-6, 150e-3), size=15, va=\"center\", bbox=dict(boxstyle=\"round\", fc=\"lightsteelblue\", ec=\"none\"))\n",
    "ax1.annotate('2,3', xy=(5e-6, 100e-3), size=15, va=\"center\", bbox=dict(boxstyle=\"round\", fc=\"lightsteelblue\", ec=\"none\"))\n",
    "\n",
    "\n",
    "helper.axes_labels(\"Oscilloscope timestamp\", \"s\", \"Shunt Voltage (Vsh)\", \"V\", title = \"Shunt Voltage (Vsh)\", ax = ax2)\n",
    "ax2.plot(df_zoom[\"t\"], df_zoom[\"Vsh_4V\"], label = \"Vsh_4V\")\n",
    "ax2.plot(df_zoom[\"t\"], df_zoom[\"Vsh_7V\"], label = \"Vsh_7V\")\n",
    "ax2.plot(df_zoom[\"t\"], df_zoom[\"Vsh_9V\"], label = \"Vsh_9V\")\n",
    "\n",
    "Vshunt = np.array([150e-3, 260e-3, 330e-3])\n",
    "# ax2.axhline(y = Vshunt[0], color = \"black\", linestyle = \"dashed\", label = f\"Vsh = {int(Vshunt[0] * 1e3)}mV\")\n",
    "# ax2.axhline(y = Vshunt[1], color = \"black\", linestyle = \"dashed\", label = f\"Vsh = {int(Vshunt[1] * 1e3)}mV\")\n",
    "# ax2.axhline(y = Vshunt[2], color = \"black\", linestyle = \"dashed\", label = f\"Vsh = {int(Vshunt[2] * 1e3)}mV\")\n",
    "ax2.legend(loc = \"lower left\")\n",
    "\n",
    "# plot duty cycle markers\n",
    "duty_cycle_ts = [(-0.7e-6, 16e-6, 19.2e-6), (1.7e-6, 16e-6, 21.8e-6), (3.5e-6, 16e-6, 23.5e-6)]\n",
    "for duty_cycle_marker_set in duty_cycle_ts:\n",
    "    print(duty_cycle_marker_set)\n",
    "    for duty_cycle_marker in duty_cycle_marker_set:\n",
    "        ax1.axvline(x = duty_cycle_marker, linestyle = \"dashed\", color = \"grey\")\n",
    "        pass\n",
    "\n",
    "linear_ts = (-3e-6, 2e-6)\n",
    "df_linreg = df_task1_9V[(df_task1_9V[\"t\"] > linear_ts[0]) & (df_task1_9V[\"t\"] < linear_ts[1])]\n",
    "\n",
    "x = df_linreg[\"t\"]\n",
    "y = df_linreg[\"Vsh_9V\"]\n",
    "A = np.vstack([x, np.ones(len(x))]).T\n",
    "a, b = np.linalg.lstsq(A, y, rcond=None)[0]\n",
    "ax2.plot(df_linreg[\"t\"], df_linreg[\"t\"] * a + b, linestyle = \"dashdot\", color = \"black\", label = \"Linear fit\")\n",
    "ax2.legend(loc = \"lower left\")"
   ]
  }
 ],
 "metadata": {
  "kernelspec": {
   "display_name": "Python 3",
   "language": "python",
   "name": "python3"
  },
  "language_info": {
   "codemirror_mode": {
    "name": "ipython",
    "version": 3
   },
   "file_extension": ".py",
   "mimetype": "text/x-python",
   "name": "python",
   "nbconvert_exporter": "python",
   "pygments_lexer": "ipython3",
   "version": "3.9.13"
  },
  "orig_nbformat": 4
 },
 "nbformat": 4,
 "nbformat_minor": 2
}
