{
 "cells": [
  {
   "cell_type": "code",
   "execution_count": 101,
   "metadata": {},
   "outputs": [],
   "source": [
    "# Imports\n",
    "import pandas as pd\n",
    "import matplotlib.pyplot as plt\n",
    "import numpy as np\n",
    "import csv\n",
    "\n",
    "# Imports and setup\n",
    "from pint import UnitRegistry\n",
    "\n",
    "# Use pint\n",
    "units = UnitRegistry()\n",
    "units.default_format = \"~P\"\n",
    "\n",
    "# Define Tesla\n",
    "ureg = UnitRegistry()\n",
    "Q_ = ureg.Quantity\n",
    "ureg.define('Tesla = units.kilogram*units.second**(-2)*units.amp**(-1) = T')"
   ]
  },
  {
   "cell_type": "code",
   "execution_count": 102,
   "metadata": {},
   "outputs": [
    {
     "name": "stdout",
     "output_type": "stream",
     "text": [
      "Pmax = 0.3929556789140338 µH\n",
      "Irms = 2.3761503603474727 A\n",
      "Ipk = 6.9566559299993465 A\n"
     ]
    }
   ],
   "source": [
    "# Givens\n",
    "Vg = 18 * units.volt\n",
    "Vo = 10 * units.volt\n",
    "Pout = 20 * units.watt\n",
    "fs = 50 * units.kilohertz\n",
    "Ts = 1/fs * units.second\n",
    "R_load = 5 * units.ohm\n",
    "D = 0.35\n",
    "alpha = 0.8\n",
    "\n",
    "Amin = 59.1 * (units.millimeter**2) # from datasheet\n",
    "Bmax = 300 * units.milliT # max peak flux density\n",
    "\n",
    "# Solved values (Ian)\n",
    "Lm = 16.53 * units.microhenry # Magnetizing Inductance\n",
    "a = 1.16\n",
    "\n",
    "# Solve for Pmax\n",
    "M = Vo/Vg\n",
    "Ipk = (2/(np.sqrt(alpha)))*(M+1)*(Vo/R_load)\n",
    "Ipk = Ipk.to(units.amp)\n",
    "Irms = np.sqrt(D/3)*Ipk\n",
    "\n",
    "delta_W = (1/2)*Lm*(Ipk**2)\n",
    "delta_W = delta_W.to(units.microjoule)\n",
    "\n",
    "flux_limit = Bmax * Amin\n",
    "\n",
    "Pmax = (flux_limit**2)/(2*delta_W)\n",
    "\n",
    "print(\"Pmax =\", Pmax.to(units.microhenry))\n",
    "print(\"Irms =\", Irms)\n",
    "print(\"Ipk =\", Ipk)\n"
   ]
  },
  {
   "cell_type": "code",
   "execution_count": 103,
   "metadata": {},
   "outputs": [
    {
     "name": "stdout",
     "output_type": "stream",
     "text": [
      "Minimum N1= 6.485816273146599 (Can't be fractional)\n",
      "\n",
      "N1 = 8\n",
      "Magnetizing Permeance = 0.25828125 µH\n"
     ]
    }
   ],
   "source": [
    "# Solve for N1 minimum\n",
    "N1_min = np.sqrt(Lm/Pmax)\n",
    "print(\"Minimum N1=\", N1_min.to_base_units(), \"(Can't be fractional)\\n\")\n",
    "\n",
    "# N1 and Pm\n",
    "N1 = 8\n",
    "print(f\"N1 = {N1}\")\n",
    "Pm = Lm / (N1 ** 2)\n",
    "print(\"Magnetizing Permeance =\",Pm)\n",
    "\n",
    "# Solve for Pmin\n",
    "D2 = 18.0 * units.millimeter\n",
    "D3 = 8.8 * units.millimeter\n",
    "H2 = 14.3 * units.millimeter\n",
    "Aw = (D2 - D3) * H2 / 2\n",
    "Jmax = Bmax / Amin\n",
    "Fmax = Jmax * Aw * 0.8\n",
    "# Pmin = (2*delta_W)/(Fmax**2)\n",
    "# print(\"Minimum Permeance\",Pmin.to(units.microhenry))\n",
    "# print(\"Fmax\",Fmax)"
   ]
  },
  {
   "cell_type": "code",
   "execution_count": 104,
   "metadata": {},
   "outputs": [
    {
     "name": "stdout",
     "output_type": "stream",
     "text": [
      "Pm = 2.5828125×10⁻⁷ kg·m²/A²/s²\n",
      "Ae = 7.57013290956038×10⁻⁵ m²\n",
      "Air Permeability = 1.2566370614359173×10⁻⁶ kg·m/A²/s²\n",
      "Gap length = 14.500626699857435 min\n"
     ]
    }
   ],
   "source": [
    "# Find air gap length\n",
    "Ae = 75.7013290956038 * (units.millimeter**2)\n",
    "# 4π x 10-7 N/A2\n",
    "air_permeability = 4*np.pi*1e-7 * (units.newton/(units.amp**2))\n",
    "gap_length = (air_permeability * Ae) / Pm\n",
    "print(\"Pm =\", Pm.to_base_units())\n",
    "print(\"Ae =\", Ae.to_base_units())\n",
    "print(\"Air Permeability =\", air_permeability.to_base_units())\n",
    "print(\"Gap length =\", gap_length.to(units.milliinch))"
   ]
  },
  {
   "cell_type": "code",
   "execution_count": 105,
   "metadata": {},
   "outputs": [
    {
     "name": "stdout",
     "output_type": "stream",
     "text": [
      "N1 = 8\n",
      "N2 = 9.28\n",
      "a =  1.16\n"
     ]
    }
   ],
   "source": [
    "# Using a, find N2\n",
    "\n",
    "N2 = a*N1\n",
    "print(f\"N1 = {N1}\")\n",
    "print(f\"N2 = {N2}\")\n",
    "print(f\"a = \", a)"
   ]
  }
 ],
 "metadata": {
  "kernelspec": {
   "display_name": "base",
   "language": "python",
   "name": "python3"
  },
  "language_info": {
   "codemirror_mode": {
    "name": "ipython",
    "version": 3
   },
   "file_extension": ".py",
   "mimetype": "text/x-python",
   "name": "python",
   "nbconvert_exporter": "python",
   "pygments_lexer": "ipython3",
   "version": "3.10.5"
  },
  "orig_nbformat": 4
 },
 "nbformat": 4,
 "nbformat_minor": 2
}
