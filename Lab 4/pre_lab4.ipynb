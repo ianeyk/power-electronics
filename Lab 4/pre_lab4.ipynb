{
 "cells": [
  {
   "attachments": {},
   "cell_type": "markdown",
   "metadata": {},
   "source": [
    "# Lab 4 Prep: Design and Manufacture Inductor\n",
    "\n",
    "#### Lauren Xiong, Ian Eykamp, Melissa Kazazic"
   ]
  },
  {
   "cell_type": "code",
   "execution_count": 54,
   "metadata": {},
   "outputs": [
    {
     "data": {
      "text/plain": [
       "{None: ParsedSource(parsed_source=PintRootBlock(opening=BOF(start_line=0, start_col=0, end_line=0, end_col=0, raw=None, content_hash=Hash(algorithm_name='blake2b', hexdigest='fc8618d3ea1c0bbca70f75d4bd6141ec24df680bd120dd216c2b2e09280a971990a1fb71c275ca4cdca0f1a5c639dfc3886d3ee06244dc0a296617a0ff969879'), path=WindowsPath('c:/dev/git/power-electronics/Lab 4/units_definition.txt'), mtime=1678082649.396907), body=(UnitDefinition(name='tesla', defined_symbol='T', aliases=('teslas',), converter=ScaleConverter(scale=1.0), reference=<UnitsContainer({'amp': -1, 'kilogram': 1, 'second': -2})>, start_line=1, start_col=0, end_line=1, end_col=60, raw='tesla = kilogram * second ** (-2) * amp ** (-1) = T = teslas'), UnitDefinition(name='weber', defined_symbol='Wb', aliases=('webers',), converter=ScaleConverter(scale=1), reference=<UnitsContainer({'meter': 2, 'tesla': 1})>, start_line=2, start_col=0, end_line=2, end_col=40, raw='weber = tesla * meter ** 2 = Wb = webers')), closing=EOS(start_line=3, start_col=0, end_line=3, end_col=0, raw=None)), config=ParserConfig(non_int_type=<class 'float'>))}"
      ]
     },
     "execution_count": 54,
     "metadata": {},
     "output_type": "execute_result"
    }
   ],
   "source": [
    "# %%capture\n",
    "# Imports and setup\n",
    "from pint import UnitRegistry\n",
    "import math\n",
    "import numpy\n",
    "\n",
    "# use pint\n",
    "units = UnitRegistry()\n",
    "units.default_format = \"~P\"\n",
    "units.load_definitions('units_definition.txt')"
   ]
  },
  {
   "attachments": {},
   "cell_type": "markdown",
   "metadata": {},
   "source": [
    "## Pt 1. Determining Turns and Gap Distance"
   ]
  },
  {
   "attachments": {},
   "cell_type": "markdown",
   "metadata": {},
   "source": [
    "### Inductance and Permeance"
   ]
  },
  {
   "cell_type": "code",
   "execution_count": 55,
   "metadata": {},
   "outputs": [
    {
     "name": "stdout",
     "output_type": "stream",
     "text": [
      "2×10⁻⁵ H\n",
      "Circle area: 54.85440043768629 mm²\n",
      "Wing gap area: 46.835775356850235 mm²\n",
      "Total equivalent area of gap: 74.26297557569337 mm²\n",
      "Calculated Permeance: 0.38086007700599384 µH\n",
      "Calculated Inductance: 18.6621437732937 µH\n"
     ]
    }
   ],
   "source": [
    "# Calculating for Inductance and Permeance\n",
    "\n",
    "target_inductance = 20e-6 * units.henry\n",
    "print(target_inductance)\n",
    "\n",
    "perm_air = 4e-7*math.pi*(units.meter*units.kilogram*units.second**(-2)*units.amp**(-2))\n",
    "eq_area_core = 62.6 * units.millimeter**2\n",
    "eq_length_core = 45.7 * units.millimeter\n",
    "rel_perm_core = 3300\n",
    "\n",
    "# changing variables\n",
    "eq_length_gap = 0.009 * units.inch\n",
    "n_turns = 7\n",
    "\n",
    "# gap area\n",
    "lg = eq_length_gap\n",
    "g = 9 * units.millimeter\n",
    "\n",
    "eq_area_wing_gap = (2 * ((7 * units.millimeter) + lg) * ((10.65 * units.millimeter) + lg)) - \\\n",
    "    (((7 * units.millimeter) + lg) * (numpy.sqrt((g - lg)** 2 - (7 * units.millimeter + lg) ** 2))) - \\\n",
    "    ((g - lg) ** 2) * (math.asin((7 * units.millimeter + lg) / (g - lg)))\n",
    "\n",
    "\n",
    "area_circle = ((7.9 / 2) * units.millimeter + lg)**2 * math.pi\n",
    "eq_area_gap = (area_circle + 2 * eq_area_wing_gap)/2\n",
    "\n",
    "print(\"Circle area:\", area_circle)\n",
    "print(\"Wing gap area:\", eq_area_wing_gap)\n",
    "print(\"Total equivalent area of gap:\", eq_area_gap)\n",
    "\n",
    "P_gap = (perm_air*eq_area_gap)/eq_length_gap\n",
    "P_core = (perm_air*rel_perm_core*eq_area_core)/eq_length_core\n",
    "P = ((P_core)**(-1)+(P_gap)**(-1))**(-1)\n",
    "L = P*(n_turns**2)\n",
    "print(\"Calculated Permeance:\", units.Quantity(P, units.microhenry))\n",
    "print(\"Calculated Inductance:\",units.Quantity(L, units.microhenry))"
   ]
  },
  {
   "attachments": {},
   "cell_type": "markdown",
   "metadata": {},
   "source": [
    "### Peak Current Density"
   ]
  },
  {
   "cell_type": "code",
   "execution_count": 56,
   "metadata": {},
   "outputs": [
    {
     "name": "stdout",
     "output_type": "stream",
     "text": [
      "20 AWG\n",
      "Current density: 7.887038529387198 A/mm²\n"
     ]
    }
   ],
   "source": [
    "# Peak current density\n",
    "\n",
    "awg_val = 20 # AWG\n",
    "print(awg_val, \"AWG\")\n",
    "\n",
    "awg_d = 0.005*92**((36-awg_val)/39)*units.inch\n",
    "awg_area = math.pi*((awg_d/2)**2)\n",
    "\n",
    "D = 0.5 # duty cycle\n",
    "ipeak = 10*units.amp\n",
    "irms = ipeak * (numpy.sqrt(D/3)) # current root mean square\n",
    "\n",
    "# current density\n",
    "current_density = irms/awg_area\n",
    "print(\"Current density:\", units.Quantity(current_density,units.A/units.millimeter**2))"
   ]
  },
  {
   "attachments": {},
   "cell_type": "markdown",
   "metadata": {},
   "source": [
    "### Peak Flux Density"
   ]
  },
  {
   "cell_type": "code",
   "execution_count": 57,
   "metadata": {},
   "outputs": [
    {
     "name": "stdout",
     "output_type": "stream",
     "text": [
      "Bmax: 200 mT\n",
      "Maximum Flux Density: 184.16215353729703 mT\n"
     ]
    }
   ],
   "source": [
    "# Peak flux density\n",
    "\n",
    "# givens\n",
    "min_effective_area = 59.1 * units.millimeter**2\n",
    "Bmax = 200*units.mT\n",
    "\n",
    "# magnetic potential\n",
    "mmf = n_turns*irms\n",
    "\n",
    "# max flux density\n",
    "flux_max = (mmf*P)/min_effective_area\n",
    "\n",
    "print(\"Bmax:\",Bmax)\n",
    "print(\"Maximum Flux Density:\",units.Quantity(flux_max,units.mT))\n"
   ]
  },
  {
   "attachments": {},
   "cell_type": "markdown",
   "metadata": {},
   "source": [
    "## Pt. 2: Real values"
   ]
  },
  {
   "cell_type": "code",
   "execution_count": 58,
   "metadata": {},
   "outputs": [
    {
     "name": "stdout",
     "output_type": "stream",
     "text": [
      "Measured Turns: 9.3\n",
      "Measured Inductance: 18.9 µH\n",
      "Measured Permeance: 0.218522372528616 µH\n"
     ]
    }
   ],
   "source": [
    "# Recorded values\n",
    "n_actual = 9.3 #turns\n",
    "L_actual = 0.0189 * units.millihenry\n",
    "\n",
    "# Permeance\n",
    "P_actual = L_actual/(n_actual**2)\n",
    "\n",
    "print(\"Measured Turns:\", n_actual)\n",
    "print(\"Measured Inductance:\", units.Quantity(L_actual, units.uhenry))\n",
    "print(\"Measured Permeance:\", units.Quantity(P_actual, units.uhenry))"
   ]
  },
  {
   "cell_type": "code",
   "execution_count": 59,
   "metadata": {},
   "outputs": [
    {
     "name": "stdout",
     "output_type": "stream",
     "text": [
      "Actual Maximum Flux Density: 140.38339773605898 mT\n"
     ]
    }
   ],
   "source": [
    "# Peak flux density\n",
    "\n",
    "flux_actual = n_actual*irms*P_actual\n",
    "\n",
    "flux_density_actual = flux_actual/min_effective_area\n",
    "\n",
    "print(\"Actual Maximum Flux Density:\",units.Quantity(flux_density_actual,units.mT))"
   ]
  },
  {
   "attachments": {},
   "cell_type": "markdown",
   "metadata": {},
   "source": [
    "So, despite needing more turns to meet the required inductance, this also meant that the permeance shrunk, and so the maximum flux density is also around the value that we wanted."
   ]
  },
  {
   "attachments": {},
   "cell_type": "markdown",
   "metadata": {},
   "source": [
    "### Peak Energy Stored"
   ]
  },
  {
   "attachments": {},
   "cell_type": "markdown",
   "metadata": {},
   "source": [
    "#### Using Calculated Values"
   ]
  },
  {
   "cell_type": "code",
   "execution_count": 60,
   "metadata": {},
   "outputs": [
    {
     "name": "stdout",
     "output_type": "stream",
     "text": [
      "Estimated total delta Work 155.5178647774475 µJ\n",
      "Core delta Work 10.427106244646026 µJ\n",
      "Gap delta Work 145.09075853280146 µJ\n"
     ]
    }
   ],
   "source": [
    "# Total delta Work\n",
    "dW_total = (1/2)*(mmf**2)*P\n",
    "\n",
    "# Work of Core\n",
    "dW_core = dW_total * (P/P_core)\n",
    "\n",
    "# Work of Gap\n",
    "dW_gap = dW_total * (P/P_gap)\n",
    "\n",
    "# Print values\n",
    "print(\"Estimated total delta Work\", units.Quantity(dW_total,units.ujoule))\n",
    "print(\"Core delta Work\", units.Quantity(dW_core,units.ujoule))\n",
    "print(\"Gap delta Work\", units.Quantity(dW_gap,units.ujoule))"
   ]
  },
  {
   "attachments": {},
   "cell_type": "markdown",
   "metadata": {},
   "source": [
    "#### Using Measured Value"
   ]
  },
  {
   "cell_type": "code",
   "execution_count": 61,
   "metadata": {},
   "outputs": [
    {
     "name": "stdout",
     "output_type": "stream",
     "text": [
      "Actual delta Work 89.22996878251821 µJ\n"
     ]
    }
   ],
   "source": [
    "# Total Work\n",
    "\n",
    "dW_actual = (1/2)*(mmf**2)*P_actual\n",
    "print(\"Actual delta Work\", units.Quantity(dW_actual,units.ujoule))\n"
   ]
  }
 ],
 "metadata": {
  "kernelspec": {
   "display_name": "Python 3",
   "language": "python",
   "name": "python3"
  },
  "language_info": {
   "codemirror_mode": {
    "name": "ipython",
    "version": 3
   },
   "file_extension": ".py",
   "mimetype": "text/x-python",
   "name": "python",
   "nbconvert_exporter": "python",
   "pygments_lexer": "ipython3",
   "version": "3.9.13"
  },
  "orig_nbformat": 4,
  "vscode": {
   "interpreter": {
    "hash": "74ebd71d33da36746c4aa523ba64ec894fe6922de7009f06f3fa37a1fb557655"
   }
  }
 },
 "nbformat": 4,
 "nbformat_minor": 2
}
