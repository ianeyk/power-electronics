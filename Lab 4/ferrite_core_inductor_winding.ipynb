{
 "cells": [
  {
   "cell_type": "code",
   "execution_count": 96,
   "metadata": {},
   "outputs": [],
   "source": [
    "from pint import UnitRegistry\n",
    "import math\n",
    "import numpy"
   ]
  },
  {
   "cell_type": "code",
   "execution_count": 197,
   "metadata": {},
   "outputs": [
    {
     "name": "stdout",
     "output_type": "stream",
     "text": [
      "2×10⁻⁵ H\n",
      "23.789210110041832 µH\n"
     ]
    }
   ],
   "source": [
    "units = UnitRegistry()\n",
    "units.default_format = \"~P\"\n",
    "\n",
    "target_inductance = 20e-6 * units.henry\n",
    "print(target_inductance)\n",
    "\n",
    "perm_air = 4e-7*math.pi*(units.meter*units.kilogram*units.second**(-2)*units.amp**(-2))\n",
    "eq_area_core = 62.6 * units.millimeter**2\n",
    "eq_length_core = 45.7 * units.millimeter\n",
    "rel_perm_core = 3300\n",
    "\n",
    "eq_length_gap = 0.01 * units.inch\n",
    "n_turns = 9\n",
    "\n",
    "P = perm_air*(eq_area_core)/((eq_length_core/rel_perm_core)+eq_length_gap)\n",
    "L = P*(n_turns**2)\n",
    "\n",
    "print(units.Quantity(L, units.microhenry))"
   ]
  },
  {
   "cell_type": "code",
   "execution_count": 198,
   "metadata": {},
   "outputs": [
    {
     "name": "stdout",
     "output_type": "stream",
     "text": [
      "62.6 mm²\n",
      "47.93967800162028 mm²\n",
      "18.441296627999073 µH\n"
     ]
    }
   ],
   "source": [
    "# Considering the eq area of the gap! More specific\n",
    "\n",
    "lg = eq_length_gap\n",
    "g = 9 * units.millimeter\n",
    "\n",
    "eq_area_gap = (2 * ((7 * units.millimeter) + lg) * ((10.65 * units.millimeter) + lg)) - \\\n",
    "    ((7 * units.millimeter) + lg) * (numpy.sqrt((g - lg)** 2 - (7 * units.millimeter + lg) ** 2)) - \\\n",
    "    ((g - lg) ** 2) * (math.asin((7 * units.millimeter + lg) / (g - lg)))\n",
    "\n",
    "print(eq_area_core)\n",
    "print(eq_area_gap)\n",
    "\n",
    "P_specific = (((perm_air*rel_perm_core*eq_area_core)/(eq_length_core))**(-1)+((perm_air*eq_area_gap)/eq_length_gap)**(-1))**(-1)\n",
    "L_specific = P_specific*(n_turns**2)\n",
    "print(units.Quantity(L_specific, units.microhenry))"
   ]
  }
 ],
 "metadata": {
  "kernelspec": {
   "display_name": "Python 3",
   "language": "python",
   "name": "python3"
  },
  "language_info": {
   "codemirror_mode": {
    "name": "ipython",
    "version": 3
   },
   "file_extension": ".py",
   "mimetype": "text/x-python",
   "name": "python",
   "nbconvert_exporter": "python",
   "pygments_lexer": "ipython3",
   "version": "3.9.13"
  },
  "orig_nbformat": 4,
  "vscode": {
   "interpreter": {
    "hash": "74ebd71d33da36746c4aa523ba64ec894fe6922de7009f06f3fa37a1fb557655"
   }
  }
 },
 "nbformat": 4,
 "nbformat_minor": 2
}
