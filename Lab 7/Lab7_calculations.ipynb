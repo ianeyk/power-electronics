{
 "cells": [
  {
   "attachments": {},
   "cell_type": "markdown",
   "metadata": {},
   "source": [
    "# Pre-Lab 7 PLECS Model Calculations\n",
    "## Ian Eykamp\n",
    "\n",
    "I was late for this assignment, so I calculated my snubber and clamp values separately from the rest of my group. My snubber and clamp values are printed at the bottom of this document.\n",
    "\n",
    "I calculated the parasitic capacitance using the equation $\\omega_0 = \\frac{1}{\\sqrt{L_{ring}C_{parasitic}}}$. The inductance is very different for the high-frequency ringing than for the low-freqency ringing due to the topology of the circuit. In the high-frequency case, $L_{ring}$ is very nearly $L_{leakage}$, whereas in the low-frequency case, it is $L_{magnetizing} + \\frac{L_{leakage}}{2}$ (assuming $L_{\\sigma 1} = L_{\\sigma 2}$). Solving for $C_{parasitic}$ using the respective inductances gave results that differed by a factor of four. This makes me suspicious of the leakage inductance values I measured, since I expected the parasitic capacitance to be similar in all topologies. I trust my inductance value for the low-frequency case better since it is dominated by the magnetizing inductance which is well known.\n",
    "\n",
    "Another point of confusion is the treatment of radians in $\\omega_0$. I am not sure in the above equation if $\\omega_0$ should be measured in radians per second or in revolutions per second. This distinction is of great importance for the parasitic capacitance and snubber design. Choosing radians per second yields more reasonable values for the parasitic inductance (~1nF instead of 10pF) and snubber values more in line with my teammates' calculations.\n",
    "\n",
    "### Import Libraries"
   ]
  },
  {
   "cell_type": "code",
   "execution_count": 20,
   "metadata": {},
   "outputs": [
    {
     "name": "stdout",
     "output_type": "stream",
     "text": [
      "Using matplotlib backend: TkAgg\n"
     ]
    }
   ],
   "source": [
    "import numpy as np\n",
    "import pandas as pd\n",
    "import matplotlib.pyplot as plt\n",
    "import matplotlib.ticker as mtick\n",
    "from UliEngineering.EngineerIO import format_value\n",
    "from si_prefix import si_format\n",
    "import plecs_helper as helper\n",
    "%matplotlib\n",
    "%matplotlib inline\n",
    "\n",
    "# Imports and setup\n",
    "from pint import UnitRegistry\n",
    "from scipy.signal import find_peaks\n",
    "from scipy.optimize import fsolve\n",
    "\n",
    "# pandas display using scientific notation\n",
    "# pd.set_option('display.float_format', lambda x: f'{x:.3e}')\n",
    "\n",
    "# use pint\n",
    "units = UnitRegistry()\n",
    "units.default_format = \"~P.2f\""
   ]
  },
  {
   "attachments": {},
   "cell_type": "markdown",
   "metadata": {},
   "source": [
    "## Base Values"
   ]
  },
  {
   "cell_type": "code",
   "execution_count": 21,
   "metadata": {},
   "outputs": [
    {
     "name": "stdout",
     "output_type": "stream",
     "text": [
      "Winding ratio a = N1 / N2: 1.16\n",
      "Inductor value L: 16.53 µH\n",
      "Peak current Ipeak: 6.96 A\n"
     ]
    }
   ],
   "source": [
    "Vg = 18 * units.volt\n",
    "Vout = 10 * units.volt\n",
    "M = Vout / Vg\n",
    "Rload = 5 * units.ohm\n",
    "Pout = 20 * units.watt\n",
    "Iout = Pout / Vout\n",
    "D = 0.35\n",
    "alpha = 0.80\n",
    "a = Vg / Vout * D / (np.sqrt(alpha) - D)\n",
    "fs = 50 * units.kilohertz\n",
    "Ts = 1 / fs\n",
    "Lcrit = 1 / (M + 1) ** 2 * Rload * Ts / 2\n",
    "L = alpha * Lcrit\n",
    "Ipeak = 2 / np.sqrt(alpha) * (M + 1) * Vout / Rload\n",
    "\n",
    "print(f\"Winding ratio a = N1 / N2: {a}\")\n",
    "print(f\"Inductor value L: {L.to('microhenry')}\")\n",
    "print(f\"Peak current Ipeak: {Ipeak.to('amp')}\")"
   ]
  },
  {
   "attachments": {},
   "cell_type": "markdown",
   "metadata": {},
   "source": [
    "## Set Up Calculations"
   ]
  },
  {
   "cell_type": "code",
   "execution_count": 22,
   "metadata": {},
   "outputs": [],
   "source": [
    "class FlybackParameters():\n",
    "    def __init__(self, Lm, Ll, wd, time_constant, clamp_voltage, units_included = True, name = \"\") -> None:\n",
    "        self.Lm = Lm\n",
    "        self.Ll = Ll\n",
    "        self.wd = wd\n",
    "        self.time_constant = time_constant\n",
    "        self.Vclamp = clamp_voltage\n",
    "        self.name = name\n",
    "        if not units_included:\n",
    "            self.Lm = self.Lm * units.Henry\n",
    "            self.Ll = self.Ll * units.Henry\n",
    "            self.time_constant = self.time_constant * units.second\n",
    "            self.wd = self.wd * 2 * np.pi * units.radian / units.second\n",
    "        self.calculate_parasitics()\n",
    "        self.calculate_snubber()\n",
    "        self.calculate_clamp()\n",
    "    \n",
    "    def __repr__(self) -> str:\n",
    "        return f\"[{self.name}] Flyback Converter with Lm = {self.Lm}, ω0 = {self.w0}, τ = {self.time_constant}\"\n",
    "    \n",
    "    def print_parasitics(self) -> None:\n",
    "        print(f\"Parasitic values for [{self.name}] Converter: L = {self.Ll.to_compact(units.henry)}, C = {self.Cparasitic.to_compact(units.farad)}, R = {self.Rparasitic.to_compact(units.ohm)}\")\n",
    "\n",
    "    def print_snubber_values(self) -> None:\n",
    "        print(f\"Snubber values for [{self.name}] Converter: Csnubber = {self.Csnubber.to_compact(units.farad)}, Rsnubber = {self.Rsnubber.to_compact(units.ohm)}\")\n",
    "\n",
    "    def print_clamp_values(self) -> None:\n",
    "        print(f\"Clamp values for [{self.name}] Converter: Cclamp = {self.Cclamp.to_compact(units.farad)}, Rclamp = {self.Rclamp.to_compact(units.ohm)}\")\n",
    "\n",
    "    def calculate_parasitics(self):\n",
    "        self.beta = 1\n",
    "        self.w0 = self.wd / self.beta\n",
    "        # self.Cparasitic = 1 / self.Ll / (self.w0 / (2 * np.pi * units.radian)) ** 2\n",
    "        self.Cparasitic = 1 / self.Ll / (self.w0 / units.radian) ** 2\n",
    "        self.alpha = np.abs(1 / self.time_constant)\n",
    "        self.Rparasitic = 2 * self.alpha * self.Ll\n",
    "    \n",
    "    def calculate_snubber(self):\n",
    "        self.Csnubber = 3 * self.Cparasitic\n",
    "        self.zeta_target = 1 / np.sqrt(2)\n",
    "        self.Rsnubber = self.zeta_target * 2 / np.sqrt(self.Csnubber / self.Ll)\n",
    "    \n",
    "    def calculate_clamp(self):\n",
    "        self.Kcp = self.Vclamp / Vout\n",
    "        self.energy_in_inductor = 1 / 2 * Ipeak ** 2 * self.Ll\n",
    "        self.Wclamp = self.energy_in_inductor * self.Kcp / (self.Kcp - 1)\n",
    "        self.Pclamp = self.Wclamp / Ts\n",
    "        self.Rclamp = self.Vclamp ** 2 / self.Pclamp / 1.5\n",
    "        self.delta_out = 0.1\n",
    "        self.Cclamp = 1 / (self.Rclamp * self.delta_out) * (Ts - Ipeak * self.Ll / (self.Vclamp - Vout))"
   ]
  },
  {
   "attachments": {},
   "cell_type": "markdown",
   "metadata": {},
   "source": [
    "### Import Experimental Values"
   ]
  },
  {
   "cell_type": "code",
   "execution_count": 25,
   "metadata": {},
   "outputs": [
    {
     "name": "stdout",
     "output_type": "stream",
     "text": [
      "[High Frequency] Flyback Converter with Lm = 16.96 µH, ω0 = 87.30 Mrad/s, τ = -273.00 ns\n",
      "[Low Frequency] Flyback Converter with Lm = 16.96 µH, ω0 = 7.80 Mrad/s, τ = -5.64 µs\n",
      "\n",
      "Before adjustment:\n",
      "Parasitic values for [High Frequency] Converter: L = 610.00 nH, C = 215.10 pF, R = 4.47 Ω\n",
      "Parasitic values for [Low Frequency] Converter: L = 17.27 µH, C = 952.02 pF, R = 6.12 Ω\n",
      "\n",
      "After adjustment:\n",
      "Parasitic values for [High Frequency] Converter: L = 610.00 nH, C = 952.02 pF, R = 4.47 Ω\n",
      "Parasitic values for [Low Frequency] Converter: L = 17.27 µH, C = 952.02 pF, R = 6.12 Ω\n",
      "Snubber values for [High Frequency] Converter: Csnubber = 2.86 nF, Rsnubber = 20.67 Ω\n",
      "Snubber values for [Low Frequency] Converter: Csnubber = 2.86 nF, Rsnubber = 109.96 Ω\n",
      "\n",
      "Clamp values for [High Frequency] Converter: Cclamp = 183.20 nF, Rclamp = 1.08 kΩ\n",
      "Power Consumed by Clamp: 984.03 mW\n"
     ]
    }
   ],
   "source": [
    "Lm = 16.96 * units.microhenry\n",
    "Ll = 0.61 * units.microhenry\n",
    "\n",
    "high_freq_wd = 87.3 * units.megaradian / units.second\n",
    "low_freq_wd =  7.80 * units.megaradian / units.second\n",
    "high_freq_tau = -273 * units.nanosecond\n",
    "low_freq_tau = -5.64 * units.microsecond\n",
    "\n",
    "clamp_voltage = 40 * units.volt\n",
    "\n",
    "high_freq_parameters = FlybackParameters(Lm = Lm, Ll = Ll,          wd = high_freq_wd, time_constant = high_freq_tau, clamp_voltage = clamp_voltage, name = \"High Frequency\")\n",
    "low_freq_parameters =  FlybackParameters(Lm = Lm, Ll = Lm + Ll / 2, wd = low_freq_wd,  time_constant = low_freq_tau,  clamp_voltage = clamp_voltage, name = \"Low Frequency\")\n",
    "\n",
    "print(high_freq_parameters)\n",
    "print(low_freq_parameters)\n",
    "print()\n",
    "\n",
    "print(\"Before adjustment:\")\n",
    "high_freq_parameters.print_parasitics()\n",
    "low_freq_parameters.print_parasitics()\n",
    "print()\n",
    "\n",
    "# This calculation yields different values for the parasitic capacitance\n",
    "# Set the parasitic capacitances to be equal\n",
    "# I trust the low-freuency ringing more because it uses the magnetizing inductance, for which we have a more reliable measurement\n",
    "high_freq_parameters.Cparasitic = low_freq_parameters.Cparasitic\n",
    "# Recalculate snubber and clamp values given the new value for parasitic capacitance\n",
    "high_freq_parameters.calculate_snubber()\n",
    "high_freq_parameters.calculate_clamp()\n",
    "\n",
    "print(\"After adjustment:\")\n",
    "high_freq_parameters.print_parasitics()\n",
    "low_freq_parameters.print_parasitics()\n",
    "\n",
    "high_freq_parameters.print_snubber_values()\n",
    "low_freq_parameters.print_snubber_values()\n",
    "print()\n",
    "\n",
    "high_freq_parameters.print_clamp_values()\n",
    "print(\"Power Consumed by Clamp:\", high_freq_parameters.Pclamp.to_compact(units.watt))"
   ]
  }
 ],
 "metadata": {
  "kernelspec": {
   "display_name": "Python 3",
   "language": "python",
   "name": "python3"
  },
  "language_info": {
   "codemirror_mode": {
    "name": "ipython",
    "version": 3
   },
   "file_extension": ".py",
   "mimetype": "text/x-python",
   "name": "python",
   "nbconvert_exporter": "python",
   "pygments_lexer": "ipython3",
   "version": "3.9.13"
  },
  "orig_nbformat": 4,
  "vscode": {
   "interpreter": {
    "hash": "74ebd71d33da36746c4aa523ba64ec894fe6922de7009f06f3fa37a1fb557655"
   }
  }
 },
 "nbformat": 4,
 "nbformat_minor": 2
}
