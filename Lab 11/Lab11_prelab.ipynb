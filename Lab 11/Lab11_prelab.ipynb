{
 "cells": [
  {
   "cell_type": "code",
   "execution_count": 14,
   "metadata": {},
   "outputs": [
    {
     "name": "stdout",
     "output_type": "stream",
     "text": [
      "Using matplotlib backend: TkAgg\n"
     ]
    }
   ],
   "source": [
    "import numpy as np\n",
    "import pandas as pd\n",
    "import matplotlib.pyplot as plt\n",
    "import matplotlib.ticker as mtick\n",
    "from UliEngineering.EngineerIO import format_value\n",
    "from si_prefix import si_format\n",
    "# import plecs_helper as helper\n",
    "%matplotlib\n",
    "%matplotlib inline\n",
    "\n",
    "# Imports and setup\n",
    "from pint import UnitRegistry\n",
    "from scipy.signal import find_peaks\n",
    "from scipy.optimize import fsolve\n",
    "\n",
    "# pandas display using scientific notation\n",
    "# pd.set_option('display.float_format', lambda x: f'{x:.3e}')\n",
    "\n",
    "# use pint\n",
    "units = UnitRegistry()\n",
    "units.default_format = \"~P.2f\""
   ]
  },
  {
   "attachments": {},
   "cell_type": "markdown",
   "metadata": {},
   "source": [
    "# Lab 11 Prep\n",
    "### Ian, Lauren, Melissa\n",
    "\n",
    "For Lab 10, we used the provided feedback components `C1 = 47nF`, `R5 = 510Ohm`, and `C2 = 10nF`, with `C2` in parallel with `(C1 + R5)` in series."
   ]
  },
  {
   "cell_type": "code",
   "execution_count": 28,
   "metadata": {},
   "outputs": [
    {
     "name": "stdout",
     "output_type": "stream",
     "text": [
      "Output voltage based on voltage divider: 10.08 V\n",
      "Old Gc0: 196.08 kHz\n",
      "Gc0: 100.00 kHz, Rf1: 1.00 kΩ, Rf2: 330.00 Ω, Rc1: 92.20 kΩ, Cc1: 10.00 nF, Cc2: 470.54 pF\n"
     ]
    }
   ],
   "source": [
    "Vout = 10 * units.volt\n",
    "Rf1 = 1 * units.kiloohm\n",
    "Rf2 = .330 * units.kiloohm\n",
    "Vout_calc = 2.5 * units.volt * (Rf1 + Rf2) / Rf2\n",
    "print(f\"Output voltage based on voltage divider: {Vout_calc}\")\n",
    "\n",
    "Rf1_old = 510 * units.ohm\n",
    "Cc1_old = 10 * units.nanofarad\n",
    "old_Gc0 = 1 / (Rf1_old * Cc1_old)\n",
    "print(f\"Old Gc0: {old_Gc0.to_compact(units.hertz)}\")\n",
    "\n",
    "Gc0 = 100 * units.kilohertz\n",
    "K = 4.61\n",
    "wc = 5 * units.kilohertz\n",
    "wz = wc / K\n",
    "wp = wc * K\n",
    "Cc1 = 1 / (Gc0 * Rf1)\n",
    "Rc1 = 1 / (wz * Cc1)\n",
    "Cc2 = 1 / (wp * Rc1)\n",
    "\n",
    "print(f\"Gc0: {Gc0.to_compact()}, Rf1: {Rf1.to_compact(units.ohm)}, Rf2: {Rf2.to_compact(units.ohm)}, Rc1: {Rc1.to_compact(units.ohm)}, Cc1: {Cc1.to_compact(units.farad)}, Cc2: {Cc2.to_compact(units.farad)}\")\n",
    "\n"
   ]
  }
 ],
 "metadata": {
  "kernelspec": {
   "display_name": "Python 3",
   "language": "python",
   "name": "python3"
  },
  "language_info": {
   "codemirror_mode": {
    "name": "ipython",
    "version": 3
   },
   "file_extension": ".py",
   "mimetype": "text/x-python",
   "name": "python",
   "nbconvert_exporter": "python",
   "pygments_lexer": "ipython3",
   "version": "3.9.13"
  },
  "orig_nbformat": 4,
  "vscode": {
   "interpreter": {
    "hash": "74ebd71d33da36746c4aa523ba64ec894fe6922de7009f06f3fa37a1fb557655"
   }
  }
 },
 "nbformat": 4,
 "nbformat_minor": 2
}
