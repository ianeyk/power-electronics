{
 "cells": [
  {
   "cell_type": "code",
   "execution_count": 1,
   "metadata": {},
   "outputs": [
    {
     "name": "stdout",
     "output_type": "stream",
     "text": [
      "Using matplotlib backend: <object object at 0x00000234B3FC0510>\n"
     ]
    },
    {
     "name": "stderr",
     "output_type": "stream",
     "text": [
      "C:\\Users\\ieykamp\\AppData\\Local\\Packages\\PythonSoftwareFoundation.Python.3.9_qbz5n2kfra8p0\\LocalCache\\local-packages\\Python39\\site-packages\\scipy\\__init__.py:146: UserWarning: A NumPy version >=1.16.5 and <1.23.0 is required for this version of SciPy (detected version 1.23.1\n",
      "  warnings.warn(f\"A NumPy version >={np_minversion} and <{np_maxversion}\"\n"
     ]
    }
   ],
   "source": [
    "import numpy as np\n",
    "import pandas as pd\n",
    "import matplotlib.pyplot as plt\n",
    "import matplotlib.ticker as mtick\n",
    "from UliEngineering.EngineerIO import format_value\n",
    "from si_prefix import si_format\n",
    "# import plecs_helper as helper\n",
    "%matplotlib\n",
    "%matplotlib inline\n",
    "\n",
    "# Imports and setup\n",
    "from pint import UnitRegistry\n",
    "from scipy.signal import find_peaks\n",
    "from scipy.optimize import fsolve\n",
    "\n",
    "# pandas display using scientific notation\n",
    "# pd.set_option('display.float_format', lambda x: f'{x:.3e}')\n",
    "\n",
    "# use pint\n",
    "units = UnitRegistry()\n",
    "units.default_format = \"~P.2f\""
   ]
  },
  {
   "attachments": {},
   "cell_type": "markdown",
   "metadata": {},
   "source": [
    "# Lab 11 Prep\n",
    "### Ian, Lauren, Melissa\n",
    "\n",
    "For Lab 10, we used the provided feedback components `C1 = 47nF`, `R5 = 510Ohm`, and `C2 = 10nF`, with `C2` in parallel with `(C1 + R5)` in series."
   ]
  },
  {
   "cell_type": "code",
   "execution_count": 2,
   "metadata": {},
   "outputs": [
    {
     "name": "stdout",
     "output_type": "stream",
     "text": [
      "K: 4.70,\t Gc0: 442.83 Hz·turn,\t Rf1: 2.00 kΩ,\t Rf2: 666.67 Ω,\t Rc1: 666.67 Ω,\t Cc1: 179.70 nF,  \t Cc2: 8.12 nF\n",
      "K: 4.70,\t Gc0: 442.83 Hz·turn,\t Rf1: 2.20 kΩ,\t Rf2: 733.33 Ω,\t Rc1: 733.33 Ω,\t Cc1: 163.37 nF,  \t Cc2: 7.38 nF\n",
      "K: 4.70,\t Gc0: 442.83 Hz·turn,\t Rf1: 2.70 kΩ,\t Rf2: 900.00 Ω,\t Rc1: 900.00 Ω,\t Cc1: 133.11 nF,  \t Cc2: 6.01 nF\n",
      "K: 4.70,\t Gc0: 442.83 Hz·turn,\t Rf1: 3.30 kΩ,\t Rf2: 1.10 kΩ,\t Rc1: 1.10 kΩ,\t Cc1: 108.91 nF,  \t Cc2: 4.92 nF\n",
      "K: 4.70,\t Gc0: 442.83 Hz·turn,\t Rf1: 3.90 kΩ,\t Rf2: 1.30 kΩ,\t Rc1: 1.30 kΩ,\t Cc1: 92.16 nF,  \t Cc2: 4.16 nF\n",
      "K: 4.70,\t Gc0: 442.83 Hz·turn,\t Rf1: 4.30 kΩ,\t Rf2: 1.43 kΩ,\t Rc1: 1.43 kΩ,\t Cc1: 83.58 nF,  \t Cc2: 3.78 nF\n",
      "K: 4.70,\t Gc0: 442.83 Hz·turn,\t Rf1: 4.70 kΩ,\t Rf2: 1.57 kΩ,\t Rc1: 1.57 kΩ,\t Cc1: 76.47 nF,  \t Cc2: 3.45 nF\n",
      "K: 4.70,\t Gc0: 442.83 Hz·turn,\t Rf1: 5.10 kΩ,\t Rf2: 1.70 kΩ,\t Rc1: 1.70 kΩ,\t Cc1: 70.47 nF,  \t Cc2: 3.18 nF\n",
      "K: 4.70,\t Gc0: 442.83 Hz·turn,\t Rf1: 5.60 kΩ,\t Rf2: 1.87 kΩ,\t Rc1: 1.87 kΩ,\t Cc1: 64.18 nF,  \t Cc2: 2.90 nF\n",
      "K: 4.70,\t Gc0: 442.83 Hz·turn,\t Rf1: 6.20 kΩ,\t Rf2: 2.07 kΩ,\t Rc1: 2.07 kΩ,\t Cc1: 57.97 nF,  \t Cc2: 2.62 nF\n",
      "K: 4.70,\t Gc0: 442.83 Hz·turn,\t Rf1: 6.80 kΩ,\t Rf2: 2.27 kΩ,\t Rc1: 2.27 kΩ,\t Cc1: 52.85 nF,  \t Cc2: 2.39 nF\n",
      "\n",
      "K: 4.70,\t Gc0: 442.83 Hz·turn,\t Rf1: 7.50 kΩ,\t Rf2: 2.50 kΩ,\t Rc1: 2.50 kΩ,\t Cc1: 47.92 nF,  \t Cc2: 2.17 nF\n",
      "\n",
      "K: 4.70,\t Gc0: 442.83 Hz·turn,\t Rf1: 8.20 kΩ,\t Rf2: 2.73 kΩ,\t Rc1: 2.73 kΩ,\t Cc1: 43.83 nF,  \t Cc2: 1.98 nF\n",
      "K: 4.70,\t Gc0: 442.83 Hz·turn,\t Rf1: 10.00 kΩ,\t Rf2: 3.33 kΩ,\t Rc1: 3.33 kΩ,\t Cc1: 35.94 nF,  \t Cc2: 1.62 nF\n"
     ]
    }
   ],
   "source": [
    "def find_values(Rf1_unitless):\n",
    "    Vout = 10 * units.volt\n",
    "    # Rf1 = 3.3 * units.kiloohm\n",
    "    Rf1 = Rf1_unitless * units.ohm\n",
    "    Rf2 = Rf1 / 3 # 1 * units.kiloohm\n",
    "    Vout_calc = 2.5 * units.volt * (Rf1 + Rf2) / Rf2\n",
    "    # print(f\"Output voltage based on voltage divider: {Vout_calc}\")\n",
    "\n",
    "    wc = 50 * units.kilohertz * units.revolutions / 8\n",
    "    # def get_Zc(my_w):\n",
    "    #     # my_Zc = 1 / (1 / (R5 + 1 / (1j * my_w * C1)) + 1 / (1 / (1j * my_w * C2))) / 4.3e3 # kOhm\n",
    "    #     my_Zc = 1 / (1 / (Rc1 + 1 / (2 * np.pi * 1j * my_w * Cc1)) + 1 / (1 / (2 * np.pi * 1j * my_w * Cc2))) # / 4.3e3 # kOhm\n",
    "    #     return my_Zc\n",
    "    # Zc_gc = get_Zc(wc)\n",
    "    # print(f\"Zc(w = wc): {np.abs(Zc_gc).to_compact(units.ohm)}\")\n",
    "\n",
    "    angle_boost = 66 * units.degree\n",
    "    K = np.tan((angle_boost / 2 + 45 * units.degree))\n",
    "    Kp = 1 / 3\n",
    "    wz = wc / K\n",
    "    wp = wc * K\n",
    "    Gc0 = Kp * wc * np.sqrt((1 + K ** (-2)) / (1 + K ** 2))\n",
    "    Cc1 = 1 / (Gc0 * Rf1)\n",
    "    Rc1 = 1 / (wz * Cc1)\n",
    "    Cc2 = 1 / (wp * Rc1)\n",
    "\n",
    "    print(f\"K: {K},\\t Gc0: {Gc0.to_compact()},\\t Rf1: {Rf1.to_compact(units.ohm)},\\t Rf2: {Rf2.to_compact(units.ohm)},\\t Rc1: {Rc1.to_compact(units.ohm)},\\t Cc1: {Cc1.to_compact(units.farad)},  \\t Cc2: {Cc2.to_compact(units.farad)}\")\n",
    "\n",
    "for R in [2, 2.2, 2.7, 3.3, 3.9, 4.3, 4.7, 5.1, 5.6, 6.2, 6.8, 7.5, 8.2, 10]:\n",
    "    if R == 7.5:\n",
    "        print()\n",
    "    find_values(R * 1e3)\n",
    "    if R == 7.5:\n",
    "        print()"
   ]
  },
  {
   "cell_type": "code",
   "execution_count": 3,
   "metadata": {},
   "outputs": [
    {
     "name": "stdout",
     "output_type": "stream",
     "text": [
      "10.00 Hz\n",
      "10.00 rad/s\n"
     ]
    }
   ],
   "source": [
    "# x = 90 * units.degrees\n",
    "# print(x)\n",
    "# y = x.to(units.radians)\n",
    "# print(y)\n",
    "\n",
    "# print(x * units.meters)\n",
    "# print(y * units.meters)\n",
    "\n",
    "# print((x * units.meters).to(units.meters))\n",
    "# print((y * units.meters).to(units.meters))\n",
    "\n",
    "a = 10 * units.hertz\n",
    "print(a)\n",
    "b = a.to(units.radian / units.second)\n",
    "print(b)\n"
   ]
  }
 ],
 "metadata": {
  "kernelspec": {
   "display_name": "Python 3",
   "language": "python",
   "name": "python3"
  },
  "language_info": {
   "codemirror_mode": {
    "name": "ipython",
    "version": 3
   },
   "file_extension": ".py",
   "mimetype": "text/x-python",
   "name": "python",
   "nbconvert_exporter": "python",
   "pygments_lexer": "ipython3",
   "version": "3.9.13"
  },
  "orig_nbformat": 4,
  "vscode": {
   "interpreter": {
    "hash": "74ebd71d33da36746c4aa523ba64ec894fe6922de7009f06f3fa37a1fb557655"
   }
  }
 },
 "nbformat": 4,
 "nbformat_minor": 2
}
