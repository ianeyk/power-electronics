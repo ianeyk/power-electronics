{
 "cells": [
  {
   "cell_type": "code",
   "execution_count": 1,
   "metadata": {},
   "outputs": [
    {
     "name": "stdout",
     "output_type": "stream",
     "text": [
      "Using matplotlib backend: <object object at 0x0000023FA3E71520>\n"
     ]
    },
    {
     "name": "stderr",
     "output_type": "stream",
     "text": [
      "C:\\Users\\ieykamp\\AppData\\Local\\Packages\\PythonSoftwareFoundation.Python.3.9_qbz5n2kfra8p0\\LocalCache\\local-packages\\Python39\\site-packages\\scipy\\__init__.py:146: UserWarning: A NumPy version >=1.16.5 and <1.23.0 is required for this version of SciPy (detected version 1.23.1\n",
      "  warnings.warn(f\"A NumPy version >={np_minversion} and <{np_maxversion}\"\n"
     ]
    }
   ],
   "source": [
    "import numpy as np\n",
    "import pandas as pd\n",
    "import matplotlib.pyplot as plt\n",
    "import matplotlib.ticker as mtick\n",
    "from UliEngineering.EngineerIO import format_value\n",
    "from si_prefix import si_format\n",
    "import plecs_helper as helper\n",
    "%matplotlib\n",
    "%matplotlib inline\n",
    "\n",
    "# Imports and setup\n",
    "from pint import UnitRegistry\n",
    "from scipy.signal import find_peaks\n",
    "from scipy.optimize import fsolve\n",
    "\n",
    "# pandas display using scientific notation\n",
    "# pd.set_option('display.float_format', lambda x: f'{x:.3e}')\n",
    "\n",
    "# use pint\n",
    "units = UnitRegistry()\n",
    "units.default_format = \"~P.2f\""
   ]
  },
  {
   "cell_type": "code",
   "execution_count": 29,
   "metadata": {},
   "outputs": [
    {
     "name": "stdout",
     "output_type": "stream",
     "text": [
      "ferrite premeance: 9.49 µH\n",
      "gap premeance: 5.53 µH\n",
      "total premeance: 3.50 µH\n",
      "inductance: 12.58 mH\n",
      "Your B value is 211.99 µT. The maximum is on the order of 530mT.\n",
      "17.88 V\n"
     ]
    }
   ],
   "source": [
    "def parallel(x, y):\n",
    "    return 1 / (1 / x + 1 / y)\n",
    "\n",
    "class FerriteCore():\n",
    "    def __init__(self, inner_diameter, outer_diameter, length, turns, mu_r = 3500) -> None:\n",
    "        # all quantities passed in should have pint units attached\n",
    "        self.inner_diameter = inner_diameter\n",
    "        self.outer_diameter = outer_diameter\n",
    "        self.length = length\n",
    "        self.turns = turns\n",
    "\n",
    "        self.r = (self.inner_diameter + self.outer_diameter) / 2\n",
    "        self.A = (self.outer_diameter - self.inner_diameter) * self.length\n",
    "\n",
    "        # mu_0 = 4 * np.pi * 1e-7 * units.tesla * units.meter / units.amp # units.magnetic_constant\n",
    "        self.mu = units.mu_0 * mu_r\n",
    "\n",
    "        self.ferrite_permeance = self.mu * self.A / (2 * np.pi * self.r)\n",
    "        self.gap_length = 2 * units.thou\n",
    "        self.gap_permeance = units.mu_0 * self.A / self.gap_length\n",
    "        self.total_permeance = parallel(self.ferrite_permeance, self.gap_permeance)\n",
    "        self.inductance = self.turns ** 2 * self.total_permeance\n",
    "\n",
    "        print(f\"ferrite premeance: {self.ferrite_permeance.to_compact(units.henry)}\")\n",
    "        print(f\"gap premeance: {self.gap_permeance.to_compact(units.henry)}\")\n",
    "        print(f\"total premeance: {self.total_permeance.to_compact(units.henry)}\")\n",
    "        print(f\"inductance: {(self.inductance).to_compact(units.henry)}\")\n",
    "\n",
    "\n",
    "    def v_sense(self, I0, freq):\n",
    "        dIdt = I0 * freq\n",
    "        B = self.mu * I0 / (2 * np.pi * self.r)\n",
    "        print(f\"Your B value is {B.to_compact(units.tesla)}. The maximum is on the order of 530mT.\")\n",
    "        deltaV = self.turns * self.A / (2 * np.pi * self.r) * self.mu * dIdt\n",
    "        return deltaV\n",
    "\n",
    "V0 = 0.5 * units.volt\n",
    "Rshunt = 100 * units.ohm\n",
    "I0 = V0 / Rshunt\n",
    "freq = 1e6 * units.hertz * units.cycle\n",
    "big_ferrite = FerriteCore(inner_diameter = 0.5 * units.inch, outer_diameter = 0.8 * units.inch, length = 1.156 * units.inch, turns = 60)\n",
    "print(big_ferrite.v_sense(I0, freq).to_compact(units.volt))\n"
   ]
  }
 ],
 "metadata": {
  "kernelspec": {
   "display_name": "Python 3",
   "language": "python",
   "name": "python3"
  },
  "language_info": {
   "codemirror_mode": {
    "name": "ipython",
    "version": 3
   },
   "file_extension": ".py",
   "mimetype": "text/x-python",
   "name": "python",
   "nbconvert_exporter": "python",
   "pygments_lexer": "ipython3",
   "version": "3.9.13"
  },
  "orig_nbformat": 4
 },
 "nbformat": 4,
 "nbformat_minor": 2
}
