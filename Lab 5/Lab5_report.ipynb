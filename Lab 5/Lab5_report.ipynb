{
 "cells": [
  {
   "cell_type": "code",
   "execution_count": 42,
   "metadata": {},
   "outputs": [
    {
     "name": "stdout",
     "output_type": "stream",
     "text": [
      "Using matplotlib backend: TkAgg\n"
     ]
    }
   ],
   "source": [
    "import numpy as np\n",
    "import pandas as pd\n",
    "import matplotlib.pyplot as plt\n",
    "import matplotlib.ticker as mtick\n",
    "from UliEngineering.EngineerIO import format_value\n",
    "from si_prefix import si_format\n",
    "import plecs_helper as helper\n",
    "%matplotlib\n",
    "%matplotlib inline\n",
    "\n",
    "# Imports and setup\n",
    "from pint import UnitRegistry\n",
    "import math\n",
    "import numpy\n",
    "\n",
    "# use pint\n",
    "units = UnitRegistry()\n",
    "units.default_format = \"~P.2f\""
   ]
  },
  {
   "attachments": {},
   "cell_type": "markdown",
   "metadata": {},
   "source": [
    "# Lab 5 Report\n",
    "\n",
    "## Ian Eykamp\n",
    "\n",
    "## Pre-Lab Calculations"
   ]
  },
  {
   "cell_type": "code",
   "execution_count": 49,
   "metadata": {},
   "outputs": [
    {
     "name": "stdout",
     "output_type": "stream",
     "text": [
      "Winding ratio a = N1 / N2: 1.16\n",
      "Inductor value L: 16.53 µH\n",
      "Peak current Ipeak: 6.96 A\n"
     ]
    }
   ],
   "source": [
    "Vg = 18 * units.volt\n",
    "Vout = 10 * units.volt\n",
    "M = Vout / Vg\n",
    "Rload = 5 * units.ohm\n",
    "Pout = 20 * units.watt\n",
    "Iout = Pout / Vout\n",
    "D = 0.35\n",
    "alpha = 0.80\n",
    "a = Vg / Vout * D / (np.sqrt(alpha) - D)\n",
    "fs = 50 * units.kilohertz\n",
    "Ts = 1 / fs\n",
    "Lcrit = 1 / (M + 1) ** 2 * Rload * Ts / 2\n",
    "L = alpha * Lcrit\n",
    "Ipeak = 2 / np.sqrt(alpha) * (M + 1) * Vout / Rload\n",
    "\n",
    "print(f\"Winding ratio a = N1 / N2: {a}\")\n",
    "print(f\"Inductor value L: {L.to('microhenry')}\")\n",
    "print(f\"Peak current Ipeak: {Ipeak.to('amp')}\")"
   ]
  }
 ],
 "metadata": {
  "kernelspec": {
   "display_name": "Python 3",
   "language": "python",
   "name": "python3"
  },
  "language_info": {
   "codemirror_mode": {
    "name": "ipython",
    "version": 3
   },
   "file_extension": ".py",
   "mimetype": "text/x-python",
   "name": "python",
   "nbconvert_exporter": "python",
   "pygments_lexer": "ipython3",
   "version": "3.9.13"
  },
  "orig_nbformat": 4
 },
 "nbformat": 4,
 "nbformat_minor": 2
}
