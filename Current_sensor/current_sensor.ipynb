{
 "cells": [
  {
   "cell_type": "code",
   "execution_count": 5,
   "metadata": {},
   "outputs": [
    {
     "name": "stdout",
     "output_type": "stream",
     "text": [
      "Using matplotlib backend: TkAgg\n",
      "Testing units: mu_0 = 0.10 m·µT/A\n"
     ]
    }
   ],
   "source": [
    "import numpy as np\n",
    "import pandas as pd\n",
    "import matplotlib.pyplot as plt\n",
    "import matplotlib.ticker as mtick\n",
    "from UliEngineering.EngineerIO import format_value\n",
    "from si_prefix import si_format\n",
    "import plecs_helper as helper\n",
    "%matplotlib\n",
    "%matplotlib inline\n",
    "\n",
    "# Imports and setup\n",
    "from pint import UnitRegistry\n",
    "from scipy.signal import find_peaks\n",
    "from scipy.optimize import fsolve\n",
    "\n",
    "# pandas display using scientific notation\n",
    "# pd.set_option('display.float_format', lambda x: f'{x:.3e}')\n",
    "\n",
    "# use pint\n",
    "units = UnitRegistry()\n",
    "units.default_format = \"~P.2f\"\n",
    "print(f\"Testing units: mu_0 = {(1 * units.mu_0).to_compact(units.tesla * units.meter / units.amp) / 4 / np.pi}\")"
   ]
  },
  {
   "attachments": {},
   "cell_type": "markdown",
   "metadata": {},
   "source": [
    "I wound the current-sensing transformers using ferrite beads which I purchased online. The ferrite cores have two semicircular halves. They have a plastic casing which snaps shut around a wire, pressing the cores together to form a continuous loop. Even when the casing is snapped shut, it is possible there is still a air gap between the cores due to manufacturing defects in the casing. Because $\\mu \\gg \\mu_0$, the reluctance $\\mathcal{R}$, and thus the flux, is strongly dependent on the size of the air gap. I show that a gap of a few thousandths of an inch is enough to explain my measurements using a typical value for the permeability of a ferrite core $\\mu \\approx 3000 \\mu_0$.\n",
    "\n",
    "From Ampere's law, we have that $\\mathcal{F} = 1 \\cdot I_{through} = \\oint H ds = \\Phi \\cdot \\mathcal{R}$, where $\\mathcal{R} = \\mathcal{R_{core}} + \\mathcal{R_{gap}} = \\frac{2 \\pi r}{\\mu A} + \\frac{l_{gap}}{\\mu_0 A}$, so $\\Phi = \\frac{I_{through}}{\\mathcal{R}} = \\frac{I_{through}}{(\\frac{2 \\pi r}{\\mu A} + \\frac{l_{gap}}{\\mu_0 A})}$.\n",
    "\n",
    "From Faraday's law, we have that $\\Delta V = \\frac{d}{dt} \\bigl[\\Phi\\bigr]$. Thus, $\\Delta V = \\frac{d}{dt} \\Bigl[ \\frac{I_{through}}{\\mathcal{R}} \\Bigr] = \\frac{1}{\\mathcal{R}} \\cdot \\frac{d}{dt}\\bigl[I_{through}\\bigr]$.\n",
    "\n",
    "Assuming $I_{through}$ takes the form $I_{through}(t) = I_{DC} + I_0 sin(\\omega t)$, then $\\Delta V = \\frac{1}{\\mathcal{R}} \\cdot \\frac{dI_{through}(t)}{dt} = \\frac{1}{\\mathcal{R}} \\cdot \\omega I_0 cos(\\omega t)$. This is shifted from the current function by 90 degrees and scales proportionally to the frequency of the measured current."
   ]
  },
  {
   "cell_type": "code",
   "execution_count": 57,
   "metadata": {},
   "outputs": [
    {
     "name": "stdout",
     "output_type": "stream",
     "text": [
      "Using a radius of 0.49 in and an air gap length of 6.80 th\n",
      "The air gap contributes to 87.00% of the total reluctance.\n",
      "Inductance: 4.45 mH\n",
      "Expected voltage difference across the transformer terminals: 932.79 mV\n",
      "Using a radius of 0.65 in and an air gap length of 11.20 th\n",
      "The air gap contributes to 89.20% of the total reluctance.\n",
      "Inductance: 3.17 mH\n",
      "Expected voltage difference across the transformer terminals: 664.62 mV\n",
      "Using a radius of 0.49 in and an air gap length of 8.50 th\n",
      "The air gap contributes to 89.30% of the total reluctance.\n",
      "Inductance: 914.63 µH\n",
      "Expected voltage difference across the transformer terminals: 383.12 mV\n"
     ]
    }
   ],
   "source": [
    "def parallel(x, y):\n",
    "    return 1 / (1 / x + 1 / y)\n",
    "\n",
    "class FerriteCore():\n",
    "    def __init__(self, inner_diameter, outer_diameter, length, turns, gap_length = 1 * units.thou, mu_r = 3000, I0 = 0.1 * units.amp, freq = 1 * units.megahertz * units.revolution) -> None:\n",
    "        # all quantities passed in should have pint units attached\n",
    "        self.inner_diameter = inner_diameter\n",
    "        self.outer_diameter = outer_diameter\n",
    "        self.length = length\n",
    "        self.turns = turns\n",
    "        self.gap_length = gap_length\n",
    "        self.I0 = I0\n",
    "        self.freq = freq\n",
    "\n",
    "        self.r = (self.inner_diameter + self.outer_diameter) / 2\n",
    "        self.A = (self.outer_diameter - self.inner_diameter) * self.length\n",
    "\n",
    "        self.mu = units.mu_0 * mu_r\n",
    "\n",
    "        self.core_length = 2 * np.pi * self.r\n",
    "        self.core_reluctance = (self.core_length - self.gap_length) / (self.mu * self.A)\n",
    "        self.gap_reluctance = self.gap_length / (units.mu_0 * self.A)\n",
    "        self.reluctance = self.core_reluctance + self.gap_reluctance\n",
    "        self.gap_reluctance_factor = self.gap_reluctance / self.reluctance\n",
    "\n",
    "        self.permeance = 1 / self.reluctance\n",
    "        self.inductance = self.turns ** 2 * self.permeance\n",
    "\n",
    "        print(f\"Using a radius of {self.r} and an air gap length of {self.gap_length}\")\n",
    "        print(f\"The air gap contributes to {np.round(self.gap_reluctance_factor.to_base_units() * 100, 1)}% of the total reluctance.\")\n",
    "        print(f\"Inductance: {(self.inductance).to_compact(units.henry)}\")\n",
    "\n",
    "        self.dIdt = self.I0 * self.freq\n",
    "        self.flux = self.I0 / self.reluctance\n",
    "        self.flux_linkage = self.flux * self.turns\n",
    "        self.dV = self.flux_linkage * self.freq\n",
    "        self.H = self.flux / (2 * np.pi * self.r) * self.reluctance\n",
    "        self.B_core = self.H * self.mu\n",
    "        self.B_air = self.H * units.mu_0\n",
    "        # print(f\"Your B value is {self.B_core.to_compact(units.tesla)}. The maximum is on the order of 530mT.\")\n",
    "        # print(f\"Your air gap B value is {self.B_air.to_compact(units.tesla)}. The maximum is on the order of 530mT.\")\n",
    "        print(f\"Expected voltage difference across the transformer terminals: {self.dV.to_compact(units.volt)}\")\n",
    "\n",
    "V0 = 0.5 * units.volt\n",
    "Rshunt = 100 * units.ohm\n",
    "I0 = V0 / Rshunt\n",
    "freq = 400e3 * units.hertz * units.cycle\n",
    "\n",
    "darkblue_ferrite = FerriteCore(inner_diameter = 0.35 * units.inch, outer_diameter = 0.625 * units.inch, length = 1.102 * units.inch, turns = 60, gap_length = 6.8 * units.thou, I0 = I0, freq = freq, mu_r = 3000)\n",
    "pink_ferrite = FerriteCore(inner_diameter = 0.5 * units.inch, outer_diameter = 0.8 * units.inch, length = 1.156 * units.inch, turns = 60, gap_length = 11.2 * units.thou, I0 = I0, freq = freq, mu_r = 3000)\n",
    "lightblue_ferrite = FerriteCore(inner_diameter = 0.35 * units.inch, outer_diameter = 0.625 * units.inch, length = 1.102 * units.inch, turns = 30, gap_length = 8.5 * units.thou, I0 = I0, freq = freq, mu_r = 3000)\n"
   ]
  }
 ],
 "metadata": {
  "kernelspec": {
   "display_name": "Python 3",
   "language": "python",
   "name": "python3"
  },
  "language_info": {
   "codemirror_mode": {
    "name": "ipython",
    "version": 3
   },
   "file_extension": ".py",
   "mimetype": "text/x-python",
   "name": "python",
   "nbconvert_exporter": "python",
   "pygments_lexer": "ipython3",
   "version": "3.9.13"
  },
  "orig_nbformat": 4
 },
 "nbformat": 4,
 "nbformat_minor": 2
}
